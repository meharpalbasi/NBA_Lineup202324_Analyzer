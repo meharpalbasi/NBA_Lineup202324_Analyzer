{
 "cells": [
  {
   "cell_type": "code",
   "execution_count": 18,
   "metadata": {},
   "outputs": [],
   "source": [
    "from nba_api.stats.endpoints import teamdashlineups\n",
    "import pandas as pd\n",
    "import time"
   ]
  },
  {
   "cell_type": "code",
   "execution_count": 2,
   "metadata": {},
   "outputs": [],
   "source": [
    "from nba_api.stats.static import teams\n",
    "nba_teams = teams.get_teams()"
   ]
  },
  {
   "cell_type": "code",
   "execution_count": 3,
   "metadata": {},
   "outputs": [],
   "source": [
    "team_dict = {}\n",
    "for i in nba_teams:\n",
    "    team_name = i['full_name']\n",
    "    team_id = i['id']\n",
    "    team_dict[team_name]= team_id"
   ]
  },
  {
   "cell_type": "code",
   "execution_count": 21,
   "metadata": {},
   "outputs": [],
   "source": [
    "def get_lineups(team_id_i, retries=3, delay=2):\n",
    "    import time\n",
    "    \n",
    "    for attempt in range(retries):\n",
    "        try:\n",
    "            lineup = teamdashlineups.TeamDashLineups(\n",
    "                date_from_nullable = \"\",\n",
    "                date_to_nullable = \"\",\n",
    "                game_id_nullable = \"\",\n",
    "                game_segment_nullable = \"\",\n",
    "                group_quantity = 5,\n",
    "                last_n_games = 0,\n",
    "                league_id_nullable = \"00\",\n",
    "                location_nullable = \"\",\n",
    "                measure_type_detailed_defense = \"Base\",\n",
    "                month = 0,\n",
    "                opponent_team_id = 0,\n",
    "                outcome_nullable = \"\",\n",
    "                pace_adjust = \"N\",\n",
    "                plus_minus = \"N\",\n",
    "                po_round_nullable = \"\",\n",
    "                per_mode_detailed = \"Totals\",\n",
    "                period = 0,\n",
    "                rank = \"N\",\n",
    "                season = \"2023-24\",\n",
    "                season_segment_nullable = \"\",\n",
    "                season_type_all_star = \"Regular Season\",\n",
    "                shot_clock_range_nullable = \"\",\n",
    "                team_id = team_id_i,\n",
    "                vs_conference_nullable = \"\",\n",
    "                vs_division_nullable = \"\"\n",
    "            )\n",
    "            \n",
    "            df = lineup.get_data_frames()\n",
    "            all_lineups = df[1]\n",
    "            return all_lineups\n",
    "            \n",
    "        except Exception as e:\n",
    "            if attempt < retries - 1:  # if not last attempt\n",
    "                time.sleep(delay)  # wait before retrying\n",
    "                continue\n",
    "            else:\n",
    "                print(f\"Failed to get data for team_id: {team_id_i}\")\n",
    "                print(f\"Error: {str(e)}\")\n",
    "                return None"
   ]
  },
  {
   "cell_type": "code",
   "execution_count": 22,
   "metadata": {},
   "outputs": [
    {
     "name": "stdout",
     "output_type": "stream",
     "text": [
      "Failed to get data for team_id: 1610612744\n",
      "Error: Expecting value: line 1 column 1 (char 0)\n"
     ]
    }
   ],
   "source": [
    "# Modified main loop\n",
    "league_lineup = pd.DataFrame()\n",
    "\n",
    "for i in team_dict:\n",
    "    team_id_i = team_dict[i]\n",
    "    team_lineup = get_lineups(team_id_i)\n",
    "    \n",
    "    if team_lineup is not None:\n",
    "        team_lineup['team'] = i\n",
    "        team_lineup['team_id'] = team_id_i\n",
    "        league_lineup = pd.concat([league_lineup, team_lineup], ignore_index=True)\n",
    "    \n",
    "    time.sleep(1)  # Add delay between requests"
   ]
  },
  {
   "cell_type": "code",
   "execution_count": 23,
   "metadata": {},
   "outputs": [],
   "source": [
    "league_lineup['players_list'] = league_lineup['GROUP_NAME'].str.split(' - ')\n",
    "league_lineup = league_lineup.sort_values(by='team')\n",
    "league_lineup.to_csv('NBALineup2023.csv')"
   ]
  }
 ],
 "metadata": {
  "kernelspec": {
   "display_name": "venv",
   "language": "python",
   "name": "python3"
  },
  "language_info": {
   "codemirror_mode": {
    "name": "ipython",
    "version": 3
   },
   "file_extension": ".py",
   "mimetype": "text/x-python",
   "name": "python",
   "nbconvert_exporter": "python",
   "pygments_lexer": "ipython3",
   "version": "3.12.2"
  }
 },
 "nbformat": 4,
 "nbformat_minor": 2
}
